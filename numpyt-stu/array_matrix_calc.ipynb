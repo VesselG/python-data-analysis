{
 "cells": [
  {
   "cell_type": "markdown",
   "id": "244bb34856ff67c4",
   "metadata": {
    "collapsed": false,
    "jupyter": {
     "outputs_hidden": false
    }
   },
   "source": [
    "# 快速创建数组"
   ]
  },
  {
   "cell_type": "code",
   "execution_count": 1,
   "id": "ffddf311baa023a0",
   "metadata": {
    "ExecuteTime": {
     "end_time": "2024-01-23T15:50:00.459893600Z",
     "start_time": "2024-01-23T15:50:00.039856900Z"
    },
    "collapsed": false,
    "jupyter": {
     "outputs_hidden": false
    }
   },
   "outputs": [],
   "source": [
    "import numpy as np"
   ]
  },
  {
   "cell_type": "code",
   "execution_count": 2,
   "id": "83768bb5f622458a",
   "metadata": {
    "ExecuteTime": {
     "end_time": "2024-01-23T15:50:43.906778200Z",
     "start_time": "2024-01-23T15:50:43.849841200Z"
    },
    "collapsed": false,
    "jupyter": {
     "outputs_hidden": false
    }
   },
   "outputs": [
    {
     "data": {
      "text/plain": [
       "array([-0.60336649,  1.78569326, -0.42572832, -0.77644539, -1.75179803,\n",
       "       -0.22873261,  1.16474377, -0.16248256,  0.19137333,  0.35854085])"
      ]
     },
     "execution_count": 2,
     "metadata": {},
     "output_type": "execute_result"
    }
   ],
   "source": [
    "# 创键一个正态分布的随机数组\n",
    "np.random.randn(10)"
   ]
  },
  {
   "cell_type": "code",
   "execution_count": 6,
   "id": "fad94d04805a0f6d",
   "metadata": {
    "ExecuteTime": {
     "end_time": "2024-01-23T15:52:05.619786700Z",
     "start_time": "2024-01-23T15:52:05.607109500Z"
    },
    "collapsed": false,
    "jupyter": {
     "outputs_hidden": false
    }
   },
   "outputs": [
    {
     "data": {
      "text/plain": [
       "3"
      ]
     },
     "execution_count": 6,
     "metadata": {},
     "output_type": "execute_result"
    }
   ],
   "source": [
    "# 创建随机整数的数组\n",
    "np.random.randint(10)"
   ]
  },
  {
   "cell_type": "code",
   "execution_count": 7,
   "id": "22e73ed186655bb6",
   "metadata": {
    "ExecuteTime": {
     "end_time": "2024-01-23T15:52:30.656536700Z",
     "start_time": "2024-01-23T15:52:30.643491800Z"
    },
    "collapsed": false,
    "jupyter": {
     "outputs_hidden": false
    }
   },
   "outputs": [
    {
     "data": {
      "text/plain": [
       "array([[5, 5, 3, 4, 1],\n",
       "       [2, 0, 2, 1, 9],\n",
       "       [4, 6, 3, 3, 8]])"
      ]
     },
     "execution_count": 7,
     "metadata": {},
     "output_type": "execute_result"
    }
   ],
   "source": [
    "np.random.randint(10, size=[3, 5])  # 创建3行5列 "
   ]
  },
  {
   "cell_type": "code",
   "execution_count": 8,
   "id": "db9252cbc9382d87",
   "metadata": {
    "ExecuteTime": {
     "end_time": "2024-01-23T15:53:47.796193700Z",
     "start_time": "2024-01-23T15:53:47.733196400Z"
    },
    "collapsed": false,
    "jupyter": {
     "outputs_hidden": false
    }
   },
   "outputs": [
    {
     "data": {
      "text/plain": [
       "array([[9, 6, 0, 2, 9],\n",
       "       [0, 1, 5, 7, 6],\n",
       "       [3, 1, 2, 2, 9],\n",
       "       [6, 8, 2, 2, 1]])"
      ]
     },
     "execution_count": 8,
     "metadata": {},
     "output_type": "execute_result"
    }
   ],
   "source": [
    "# create 4 rows 5 columns 20 size  num < 10\n",
    "np.random.randint(10, size=20).reshape(4, 5)"
   ]
  },
  {
   "cell_type": "markdown",
   "id": "6302c6684d63a14",
   "metadata": {
    "collapsed": false,
    "jupyter": {
     "outputs_hidden": false
    }
   },
   "source": [
    "# 数组的运算"
   ]
  },
  {
   "cell_type": "code",
   "execution_count": 9,
   "id": "e778995d274c2f50",
   "metadata": {
    "ExecuteTime": {
     "end_time": "2024-01-23T15:54:48.449800700Z",
     "start_time": "2024-01-23T15:54:48.433762300Z"
    },
    "collapsed": false,
    "jupyter": {
     "outputs_hidden": false
    }
   },
   "outputs": [],
   "source": [
    "a = np.random.randint(10, size=20).reshape(4, 5)"
   ]
  },
  {
   "cell_type": "code",
   "execution_count": 10,
   "id": "85442926d187d08b",
   "metadata": {
    "ExecuteTime": {
     "end_time": "2024-01-23T15:54:55.059317Z",
     "start_time": "2024-01-23T15:54:55.042525200Z"
    },
    "collapsed": false,
    "jupyter": {
     "outputs_hidden": false
    }
   },
   "outputs": [],
   "source": [
    "b = np.random.randint(10, size=20).reshape(4, 5)"
   ]
  },
  {
   "cell_type": "code",
   "execution_count": 11,
   "id": "8e0fcac4c947f205",
   "metadata": {
    "ExecuteTime": {
     "end_time": "2024-01-23T15:54:58.191786700Z",
     "start_time": "2024-01-23T15:54:58.179684900Z"
    },
    "collapsed": false,
    "jupyter": {
     "outputs_hidden": false
    }
   },
   "outputs": [
    {
     "data": {
      "text/plain": [
       "array([[2, 8, 0, 2, 1],\n",
       "       [2, 5, 2, 7, 6],\n",
       "       [4, 0, 3, 4, 1],\n",
       "       [7, 9, 2, 9, 7]])"
      ]
     },
     "execution_count": 11,
     "metadata": {},
     "output_type": "execute_result"
    }
   ],
   "source": [
    "a"
   ]
  },
  {
   "cell_type": "code",
   "execution_count": 12,
   "id": "a7f7312f3cacf270",
   "metadata": {
    "ExecuteTime": {
     "end_time": "2024-01-23T15:55:00.130187700Z",
     "start_time": "2024-01-23T15:55:00.102002700Z"
    },
    "collapsed": false,
    "jupyter": {
     "outputs_hidden": false
    }
   },
   "outputs": [
    {
     "data": {
      "text/plain": [
       "array([[6, 8, 5, 8, 4],\n",
       "       [0, 4, 3, 4, 3],\n",
       "       [6, 6, 9, 8, 9],\n",
       "       [0, 7, 6, 8, 5]])"
      ]
     },
     "execution_count": 12,
     "metadata": {},
     "output_type": "execute_result"
    }
   ],
   "source": [
    "b"
   ]
  },
  {
   "cell_type": "code",
   "execution_count": 13,
   "id": "bd85ffe29d26288c",
   "metadata": {
    "ExecuteTime": {
     "end_time": "2024-01-23T15:55:03.130819200Z",
     "start_time": "2024-01-23T15:55:03.115005100Z"
    },
    "collapsed": false,
    "jupyter": {
     "outputs_hidden": false
    }
   },
   "outputs": [
    {
     "data": {
      "text/plain": [
       "array([[ 8, 16,  5, 10,  5],\n",
       "       [ 2,  9,  5, 11,  9],\n",
       "       [10,  6, 12, 12, 10],\n",
       "       [ 7, 16,  8, 17, 12]])"
      ]
     },
     "execution_count": 13,
     "metadata": {},
     "output_type": "execute_result"
    }
   ],
   "source": [
    "a + b"
   ]
  },
  {
   "cell_type": "code",
   "execution_count": 14,
   "id": "189d90787136c21f",
   "metadata": {
    "ExecuteTime": {
     "end_time": "2024-01-23T15:55:21.386008200Z",
     "start_time": "2024-01-23T15:55:21.369529500Z"
    },
    "collapsed": false,
    "jupyter": {
     "outputs_hidden": false
    }
   },
   "outputs": [
    {
     "data": {
      "text/plain": [
       "array([[12, 64,  0, 16,  4],\n",
       "       [ 0, 20,  6, 28, 18],\n",
       "       [24,  0, 27, 32,  9],\n",
       "       [ 0, 63, 12, 72, 35]])"
      ]
     },
     "execution_count": 14,
     "metadata": {},
     "output_type": "execute_result"
    }
   ],
   "source": [
    "a * b"
   ]
  },
  {
   "cell_type": "code",
   "execution_count": 15,
   "id": "3237cb54afa386c",
   "metadata": {
    "ExecuteTime": {
     "end_time": "2024-01-23T15:55:37.262528600Z",
     "start_time": "2024-01-23T15:55:37.240042Z"
    },
    "collapsed": false,
    "jupyter": {
     "outputs_hidden": false
    }
   },
   "outputs": [
    {
     "data": {
      "text/plain": [
       "array([[-4,  0, -5, -6, -3],\n",
       "       [ 2,  1, -1,  3,  3],\n",
       "       [-2, -6, -6, -4, -8],\n",
       "       [ 7,  2, -4,  1,  2]])"
      ]
     },
     "execution_count": 15,
     "metadata": {},
     "output_type": "execute_result"
    }
   ],
   "source": [
    "a - b"
   ]
  },
  {
   "cell_type": "code",
   "execution_count": 42,
   "id": "4ffee87d808941c1",
   "metadata": {
    "ExecuteTime": {
     "end_time": "2024-01-23T16:12:32.456038900Z",
     "start_time": "2024-01-23T16:12:32.434332400Z"
    },
    "collapsed": false,
    "jupyter": {
     "outputs_hidden": false
    }
   },
   "outputs": [],
   "source": [
    "# a / b  # inf 无穷大"
   ]
  },
  {
   "cell_type": "code",
   "execution_count": 18,
   "id": "a6ce04d6ba8c1a98",
   "metadata": {
    "ExecuteTime": {
     "end_time": "2024-01-23T15:56:27.700621Z",
     "start_time": "2024-01-23T15:56:27.682622100Z"
    },
    "collapsed": false,
    "jupyter": {
     "outputs_hidden": false
    }
   },
   "outputs": [
    {
     "data": {
      "text/plain": [
       "[[2, 8, 0, 2, 1], [2, 5, 2, 7, 6], [4, 0, 3, 4, 1], [7, 9, 2, 9, 7]]"
      ]
     },
     "execution_count": 18,
     "metadata": {},
     "output_type": "execute_result"
    }
   ],
   "source": [
    "# 转换为列表\n",
    "a.tolist()"
   ]
  },
  {
   "cell_type": "code",
   "execution_count": 20,
   "id": "b59738f54a88f26a",
   "metadata": {
    "ExecuteTime": {
     "end_time": "2024-01-23T15:57:56.566762600Z",
     "start_time": "2024-01-23T15:57:56.560052400Z"
    },
    "collapsed": false,
    "jupyter": {
     "outputs_hidden": false
    }
   },
   "outputs": [
    {
     "data": {
      "text/plain": [
       "matrix([[1, 2, 3],\n",
       "        [4, 5, 6]])"
      ]
     },
     "execution_count": 20,
     "metadata": {},
     "output_type": "execute_result"
    }
   ],
   "source": [
    "# 矩阵\n",
    "np.mat([[1, 2, 3],\n",
    "        [4, 5, 6]])"
   ]
  },
  {
   "cell_type": "code",
   "execution_count": 21,
   "id": "311909ca8e1177c4",
   "metadata": {
    "ExecuteTime": {
     "end_time": "2024-01-23T15:58:12.839943800Z",
     "start_time": "2024-01-23T15:58:12.824169400Z"
    },
    "collapsed": false,
    "jupyter": {
     "outputs_hidden": false
    }
   },
   "outputs": [
    {
     "data": {
      "text/plain": [
       "matrix([[2, 8, 0, 2, 1],\n",
       "        [2, 5, 2, 7, 6],\n",
       "        [4, 0, 3, 4, 1],\n",
       "        [7, 9, 2, 9, 7]])"
      ]
     },
     "execution_count": 21,
     "metadata": {},
     "output_type": "execute_result"
    }
   ],
   "source": [
    "np.mat(a)"
   ]
  },
  {
   "cell_type": "markdown",
   "id": "4474ad4b97c4b50e",
   "metadata": {
    "collapsed": false,
    "jupyter": {
     "outputs_hidden": false
    }
   },
   "source": [
    "# 矩阵的运算"
   ]
  },
  {
   "cell_type": "code",
   "execution_count": 22,
   "id": "f93bfe0c06285c15",
   "metadata": {
    "ExecuteTime": {
     "end_time": "2024-01-23T15:59:02.047309500Z",
     "start_time": "2024-01-23T15:59:02.025309800Z"
    },
    "collapsed": false,
    "jupyter": {
     "outputs_hidden": false
    }
   },
   "outputs": [],
   "source": [
    "A = np.mat(a)\n",
    "B = np.mat(b)"
   ]
  },
  {
   "cell_type": "code",
   "execution_count": 24,
   "id": "6106be7a5cb6e37e",
   "metadata": {
    "ExecuteTime": {
     "end_time": "2024-01-23T15:59:11.823852Z",
     "start_time": "2024-01-23T15:59:11.814823600Z"
    },
    "collapsed": false,
    "jupyter": {
     "outputs_hidden": false
    }
   },
   "outputs": [
    {
     "data": {
      "text/plain": [
       "matrix([[2, 8, 0, 2, 1],\n",
       "        [2, 5, 2, 7, 6],\n",
       "        [4, 0, 3, 4, 1],\n",
       "        [7, 9, 2, 9, 7]])"
      ]
     },
     "execution_count": 24,
     "metadata": {},
     "output_type": "execute_result"
    }
   ],
   "source": [
    "A"
   ]
  },
  {
   "cell_type": "code",
   "execution_count": 25,
   "id": "24396d6fb4a77c73",
   "metadata": {
    "ExecuteTime": {
     "end_time": "2024-01-23T15:59:16.008005100Z",
     "start_time": "2024-01-23T15:59:15.979250100Z"
    },
    "collapsed": false,
    "jupyter": {
     "outputs_hidden": false
    }
   },
   "outputs": [
    {
     "data": {
      "text/plain": [
       "matrix([[6, 8, 5, 8, 4],\n",
       "        [0, 4, 3, 4, 3],\n",
       "        [6, 6, 9, 8, 9],\n",
       "        [0, 7, 6, 8, 5]])"
      ]
     },
     "execution_count": 25,
     "metadata": {},
     "output_type": "execute_result"
    }
   ],
   "source": [
    "B"
   ]
  },
  {
   "cell_type": "code",
   "execution_count": 26,
   "id": "19be4f47f4223b84",
   "metadata": {
    "ExecuteTime": {
     "end_time": "2024-01-23T15:59:22.523633900Z",
     "start_time": "2024-01-23T15:59:22.499737Z"
    },
    "collapsed": false,
    "jupyter": {
     "outputs_hidden": false
    }
   },
   "outputs": [
    {
     "data": {
      "text/plain": [
       "matrix([[ 8, 16,  5, 10,  5],\n",
       "        [ 2,  9,  5, 11,  9],\n",
       "        [10,  6, 12, 12, 10],\n",
       "        [ 7, 16,  8, 17, 12]])"
      ]
     },
     "execution_count": 26,
     "metadata": {},
     "output_type": "execute_result"
    }
   ],
   "source": [
    "A + B"
   ]
  },
  {
   "cell_type": "code",
   "execution_count": 27,
   "id": "e85adadc703dcd15",
   "metadata": {
    "ExecuteTime": {
     "end_time": "2024-01-23T15:59:28.725678200Z",
     "start_time": "2024-01-23T15:59:28.712948300Z"
    },
    "collapsed": false,
    "jupyter": {
     "outputs_hidden": false
    }
   },
   "outputs": [
    {
     "data": {
      "text/plain": [
       "matrix([[-4,  0, -5, -6, -3],\n",
       "        [ 2,  1, -1,  3,  3],\n",
       "        [-2, -6, -6, -4, -8],\n",
       "        [ 7,  2, -4,  1,  2]])"
      ]
     },
     "execution_count": 27,
     "metadata": {},
     "output_type": "execute_result"
    }
   ],
   "source": [
    "A -B"
   ]
  },
  {
   "cell_type": "code",
   "execution_count": 2,
   "id": "f8b433fed49182e",
   "metadata": {
    "ExecuteTime": {
     "end_time": "2024-01-23T15:59:32.910511800Z",
     "start_time": "2024-01-23T15:59:32.874816700Z"
    },
    "collapsed": false,
    "jupyter": {
     "outputs_hidden": false
    }
   },
   "outputs": [],
   "source": [
    "# A * B"
   ]
  },
  {
   "cell_type": "code",
   "execution_count": 30,
   "id": "e26936ece64b2210",
   "metadata": {
    "ExecuteTime": {
     "end_time": "2024-01-23T16:00:40.786511300Z",
     "start_time": "2024-01-23T16:00:40.770818400Z"
    },
    "collapsed": false,
    "jupyter": {
     "outputs_hidden": false
    }
   },
   "outputs": [],
   "source": [
    "B = np.mat(np.random.randint(10, size=20).reshape(5, 4))"
   ]
  },
  {
   "cell_type": "code",
   "execution_count": 31,
   "id": "d8deef526277bffa",
   "metadata": {
    "ExecuteTime": {
     "end_time": "2024-01-23T16:00:43.278035500Z",
     "start_time": "2024-01-23T16:00:43.261752200Z"
    },
    "collapsed": false,
    "jupyter": {
     "outputs_hidden": false
    }
   },
   "outputs": [
    {
     "data": {
      "text/plain": [
       "matrix([[2, 0, 8, 6],\n",
       "        [1, 3, 4, 4],\n",
       "        [3, 2, 4, 4],\n",
       "        [1, 6, 7, 7],\n",
       "        [9, 6, 9, 3]])"
      ]
     },
     "execution_count": 31,
     "metadata": {},
     "output_type": "execute_result"
    }
   ],
   "source": [
    "B"
   ]
  },
  {
   "cell_type": "code",
   "execution_count": 32,
   "id": "f21e6c9676a95d6b",
   "metadata": {
    "ExecuteTime": {
     "end_time": "2024-01-23T16:00:52.914690600Z",
     "start_time": "2024-01-23T16:00:52.888353Z"
    },
    "collapsed": false,
    "jupyter": {
     "outputs_hidden": false
    }
   },
   "outputs": [
    {
     "data": {
      "text/plain": [
       "matrix([[ 23,  42,  71,  61],\n",
       "        [ 76,  97, 147, 107],\n",
       "        [ 30,  36,  81,  67],\n",
       "        [101, 127, 226, 170]])"
      ]
     },
     "execution_count": 32,
     "metadata": {},
     "output_type": "execute_result"
    }
   ],
   "source": [
    "A * B"
   ]
  },
  {
   "cell_type": "markdown",
   "id": "12a1a951e24cbb62",
   "metadata": {
    "collapsed": false,
    "jupyter": {
     "outputs_hidden": false
    }
   },
   "source": [
    "# Array 的常用函数"
   ]
  },
  {
   "cell_type": "code",
   "execution_count": 33,
   "id": "80aa14bfa205ea76",
   "metadata": {
    "ExecuteTime": {
     "end_time": "2024-01-23T16:01:50.067181600Z",
     "start_time": "2024-01-23T16:01:50.008200100Z"
    },
    "collapsed": false,
    "jupyter": {
     "outputs_hidden": false
    }
   },
   "outputs": [],
   "source": [
    "a = np.random.randint(20, size=20).reshape(4, 5)"
   ]
  },
  {
   "cell_type": "code",
   "execution_count": 34,
   "id": "c2f06ba7392cd77b",
   "metadata": {
    "ExecuteTime": {
     "end_time": "2024-01-23T16:01:51.351511400Z",
     "start_time": "2024-01-23T16:01:51.331643100Z"
    },
    "collapsed": false,
    "jupyter": {
     "outputs_hidden": false
    }
   },
   "outputs": [
    {
     "data": {
      "text/plain": [
       "array([[ 5, 18, 11, 14, 17],\n",
       "       [18, 10,  0,  4,  4],\n",
       "       [ 0,  9,  5, 14,  4],\n",
       "       [ 3, 17, 10,  0, 14]])"
      ]
     },
     "execution_count": 34,
     "metadata": {},
     "output_type": "execute_result"
    }
   ],
   "source": [
    "a"
   ]
  },
  {
   "cell_type": "code",
   "execution_count": 35,
   "id": "e359868d156f9dc4",
   "metadata": {
    "ExecuteTime": {
     "end_time": "2024-01-23T16:02:51.082716600Z",
     "start_time": "2024-01-23T16:02:51.052719200Z"
    },
    "collapsed": false,
    "jupyter": {
     "outputs_hidden": false
    }
   },
   "outputs": [
    {
     "data": {
      "text/plain": [
       "array([ 0,  3,  4,  5,  9, 10, 11, 14, 17, 18])"
      ]
     },
     "execution_count": 35,
     "metadata": {},
     "output_type": "execute_result"
    }
   ],
   "source": [
    "# array 去重\n",
    "np.unique(a)"
   ]
  },
  {
   "cell_type": "code",
   "execution_count": 36,
   "id": "33f026aad49ad4e2",
   "metadata": {
    "ExecuteTime": {
     "end_time": "2024-01-23T16:03:11.037235700Z",
     "start_time": "2024-01-23T16:03:10.979353600Z"
    },
    "collapsed": false,
    "jupyter": {
     "outputs_hidden": false
    }
   },
   "outputs": [
    {
     "data": {
      "text/plain": [
       "array([26, 54, 26, 32, 39])"
      ]
     },
     "execution_count": 36,
     "metadata": {},
     "output_type": "execute_result"
    }
   ],
   "source": [
    "sum(a) # 求每列"
   ]
  },
  {
   "cell_type": "code",
   "execution_count": 37,
   "id": "969c4fb04fc12b23",
   "metadata": {
    "ExecuteTime": {
     "end_time": "2024-01-23T16:04:03.451776200Z",
     "start_time": "2024-01-23T16:04:03.415887Z"
    },
    "collapsed": false,
    "jupyter": {
     "outputs_hidden": false
    }
   },
   "outputs": [
    {
     "data": {
      "text/plain": [
       "65"
      ]
     },
     "execution_count": 37,
     "metadata": {},
     "output_type": "execute_result"
    }
   ],
   "source": [
    "sum(a[0]) # 求第一行"
   ]
  },
  {
   "cell_type": "code",
   "execution_count": 38,
   "id": "b3538c3b31fb768f",
   "metadata": {
    "ExecuteTime": {
     "end_time": "2024-01-23T16:05:49.646179800Z",
     "start_time": "2024-01-23T16:05:49.628070400Z"
    },
    "collapsed": false,
    "jupyter": {
     "outputs_hidden": false
    }
   },
   "outputs": [
    {
     "data": {
      "text/plain": [
       "26"
      ]
     },
     "execution_count": 38,
     "metadata": {},
     "output_type": "execute_result"
    }
   ],
   "source": [
    "sum(a[:, 0]) # 求第一列"
   ]
  },
  {
   "cell_type": "code",
   "execution_count": 39,
   "id": "6892a9b891dfb6fd",
   "metadata": {
    "ExecuteTime": {
     "end_time": "2024-01-23T16:06:10.022586100Z",
     "start_time": "2024-01-23T16:06:09.963583700Z"
    },
    "collapsed": false,
    "jupyter": {
     "outputs_hidden": false
    }
   },
   "outputs": [
    {
     "data": {
      "text/plain": [
       "18"
      ]
     },
     "execution_count": 39,
     "metadata": {},
     "output_type": "execute_result"
    }
   ],
   "source": [
    "a.max() "
   ]
  },
  {
   "cell_type": "code",
   "execution_count": 40,
   "id": "e66b3e55cdadaf80",
   "metadata": {
    "ExecuteTime": {
     "end_time": "2024-01-23T16:06:22.970275700Z",
     "start_time": "2024-01-23T16:06:22.933674200Z"
    },
    "collapsed": false,
    "jupyter": {
     "outputs_hidden": false
    }
   },
   "outputs": [
    {
     "data": {
      "text/plain": [
       "18"
      ]
     },
     "execution_count": 40,
     "metadata": {},
     "output_type": "execute_result"
    }
   ],
   "source": [
    "max(a[0]) # 第一行的最大值"
   ]
  },
  {
   "cell_type": "code",
   "execution_count": 41,
   "id": "1124d8467a959f46",
   "metadata": {
    "ExecuteTime": {
     "end_time": "2024-01-23T16:06:58.353834Z",
     "start_time": "2024-01-23T16:06:58.329218700Z"
    },
    "collapsed": false,
    "jupyter": {
     "outputs_hidden": false
    }
   },
   "outputs": [
    {
     "data": {
      "text/plain": [
       "18"
      ]
     },
     "execution_count": 41,
     "metadata": {},
     "output_type": "execute_result"
    }
   ],
   "source": [
    "max(a[:, 0]) # 求第一列的最大值"
   ]
  },
  {
   "cell_type": "code",
   "execution_count": null,
   "id": "ffbd979ee837796a",
   "metadata": {
    "collapsed": false,
    "jupyter": {
     "outputs_hidden": false
    }
   },
   "outputs": [],
   "source": []
  }
 ],
 "metadata": {
  "kernelspec": {
   "display_name": "Python 3 (ipykernel)",
   "language": "python",
   "name": "python3"
  },
  "language_info": {
   "codemirror_mode": {
    "name": "ipython",
    "version": 3
   },
   "file_extension": ".py",
   "mimetype": "text/x-python",
   "name": "python",
   "nbconvert_exporter": "python",
   "pygments_lexer": "ipython3",
   "version": "3.11.0"
  }
 },
 "nbformat": 4,
 "nbformat_minor": 5
}
