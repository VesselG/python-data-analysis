{
 "cells": [
  {
   "cell_type": "markdown",
   "id": "d9421f4e-c2ed-401b-871e-2d8621cb2191",
   "metadata": {},
   "source": [
    "# 数组的创建和访问"
   ]
  },
  {
   "cell_type": "code",
   "execution_count": 1,
   "id": "initial_id",
   "metadata": {},
   "outputs": [],
   "source": [
    "import numpy as np"
   ]
  },
  {
   "cell_type": "code",
   "execution_count": 4,
   "id": "61efb777-585d-4884-85b4-8d93cd7dc14d",
   "metadata": {},
   "outputs": [],
   "source": [
    "# create from python list\n",
    "list_1 = [1, 2, 3, 4]"
   ]
  },
  {
   "cell_type": "code",
   "execution_count": 5,
   "id": "77d7d765-a93f-4d2f-b48b-4a1fe6b62960",
   "metadata": {},
   "outputs": [
    {
     "data": {
      "text/plain": [
       "[1, 2, 3, 4]"
      ]
     },
     "execution_count": 5,
     "metadata": {},
     "output_type": "execute_result"
    }
   ],
   "source": [
    "list_1"
   ]
  },
  {
   "cell_type": "code",
   "execution_count": 6,
   "id": "b7019ef4-7692-490a-9bbd-491b575a3322",
   "metadata": {},
   "outputs": [],
   "source": [
    "array_1 = np.array(list_1)"
   ]
  },
  {
   "cell_type": "code",
   "execution_count": 7,
   "id": "0f9b6da1-c705-44a4-a1ce-4a6522259a69",
   "metadata": {},
   "outputs": [
    {
     "data": {
      "text/plain": [
       "array([1, 2, 3, 4])"
      ]
     },
     "execution_count": 7,
     "metadata": {},
     "output_type": "execute_result"
    }
   ],
   "source": [
    "array_1"
   ]
  },
  {
   "cell_type": "code",
   "execution_count": 8,
   "id": "20862e0d-78a4-45fc-9b43-c8be1521bb86",
   "metadata": {},
   "outputs": [],
   "source": [
    "list_2 = [1, 2, 3, 4]"
   ]
  },
  {
   "cell_type": "code",
   "execution_count": 9,
   "id": "1e500974-eaa0-496f-917e-136da65c9234",
   "metadata": {},
   "outputs": [],
   "source": [
    "array_2 = np.array([list_1, list_2])"
   ]
  },
  {
   "cell_type": "code",
   "execution_count": 10,
   "id": "adb702ae-6208-4393-a492-4e1c77deff4e",
   "metadata": {},
   "outputs": [
    {
     "data": {
      "text/plain": [
       "array([[1, 2, 3, 4],\n",
       "       [1, 2, 3, 4]])"
      ]
     },
     "execution_count": 10,
     "metadata": {},
     "output_type": "execute_result"
    }
   ],
   "source": [
    "array_2"
   ]
  },
  {
   "cell_type": "code",
   "execution_count": 12,
   "id": "d22a425f-ddc8-4e40-96e1-fa7d8edc0f1b",
   "metadata": {},
   "outputs": [
    {
     "data": {
      "text/plain": [
       "(2, 4)"
      ]
     },
     "execution_count": 12,
     "metadata": {},
     "output_type": "execute_result"
    }
   ],
   "source": [
    "array_2.shape"
   ]
  },
  {
   "cell_type": "code",
   "execution_count": 14,
   "id": "51b461de-9efb-4486-a8e9-164a14ff5e7d",
   "metadata": {},
   "outputs": [
    {
     "data": {
      "text/plain": [
       "8"
      ]
     },
     "execution_count": 14,
     "metadata": {},
     "output_type": "execute_result"
    }
   ],
   "source": [
    "array_2.size"
   ]
  },
  {
   "cell_type": "code",
   "execution_count": 15,
   "id": "9f63e04f-39c5-4c72-81d4-f2024aa2e1bb",
   "metadata": {},
   "outputs": [
    {
     "data": {
      "text/plain": [
       "dtype('int32')"
      ]
     },
     "execution_count": 15,
     "metadata": {},
     "output_type": "execute_result"
    }
   ],
   "source": [
    "array_2.dtype"
   ]
  },
  {
   "cell_type": "code",
   "execution_count": 16,
   "id": "aedd3721-d9c6-4893-98a8-1bc9b0d0a180",
   "metadata": {},
   "outputs": [],
   "source": [
    "array_3 = np.array([[1.0, 2.3, 4], [5, 6, 7]])"
   ]
  },
  {
   "cell_type": "code",
   "execution_count": 17,
   "id": "5f9756b2-c682-4957-a150-e06e0267dc99",
   "metadata": {},
   "outputs": [
    {
     "data": {
      "text/plain": [
       "dtype('float64')"
      ]
     },
     "execution_count": 17,
     "metadata": {},
     "output_type": "execute_result"
    }
   ],
   "source": [
    "array_3.dtype"
   ]
  },
  {
   "cell_type": "markdown",
   "id": "1354f31d-7d66-409a-a38e-3d07c28124e9",
   "metadata": {},
   "source": [
    "#### arange 创建数组"
   ]
  },
  {
   "cell_type": "code",
   "execution_count": 21,
   "id": "305a8919-6f47-492a-a64b-a0957391a01f",
   "metadata": {},
   "outputs": [],
   "source": [
    "array_4 = np.arange(1, 5)"
   ]
  },
  {
   "cell_type": "markdown",
   "id": "1952014e-f8c3-4136-afcd-1052e32f2cb1",
   "metadata": {},
   "source": [
    "#### 全零数组"
   ]
  },
  {
   "cell_type": "code",
   "execution_count": 22,
   "id": "61a2e5b8-8d59-499b-8592-43d9f00c641e",
   "metadata": {},
   "outputs": [],
   "source": [
    "array_5 = np.zeros(5)"
   ]
  },
  {
   "cell_type": "code",
   "execution_count": 23,
   "id": "e4ad0e26-57a3-47a3-bcc9-a7cdc610ec39",
   "metadata": {},
   "outputs": [
    {
     "data": {
      "text/plain": [
       "array([0., 0., 0., 0., 0.])"
      ]
     },
     "execution_count": 23,
     "metadata": {},
     "output_type": "execute_result"
    }
   ],
   "source": [
    "array_5"
   ]
  },
  {
   "cell_type": "code",
   "execution_count": 24,
   "id": "1da5fd98-2e8f-4012-8d07-b53ca56443cb",
   "metadata": {},
   "outputs": [],
   "source": [
    "# 两行三列 全零数组\n",
    "array_6 = np.zeros([2, 3])"
   ]
  },
  {
   "cell_type": "code",
   "execution_count": 25,
   "id": "76f2926e-cfdc-4991-aa73-48ef0d378117",
   "metadata": {},
   "outputs": [
    {
     "data": {
      "text/plain": [
       "array([[0., 0., 0.],\n",
       "       [0., 0., 0.]])"
      ]
     },
     "execution_count": 25,
     "metadata": {},
     "output_type": "execute_result"
    }
   ],
   "source": [
    "array_6"
   ]
  },
  {
   "cell_type": "markdown",
   "id": "5b5f23a6-be26-41fa-acbc-643252321b8d",
   "metadata": {},
   "source": [
    "#### 单位数组"
   ]
  },
  {
   "cell_type": "code",
   "execution_count": 27,
   "id": "ee4b046a-ab15-4aff-b8f3-ba9fc7c8b3ac",
   "metadata": {},
   "outputs": [
    {
     "data": {
      "text/plain": [
       "array([[1., 0., 0., 0., 0.],\n",
       "       [0., 1., 0., 0., 0.],\n",
       "       [0., 0., 1., 0., 0.],\n",
       "       [0., 0., 0., 1., 0.],\n",
       "       [0., 0., 0., 0., 1.]])"
      ]
     },
     "execution_count": 27,
     "metadata": {},
     "output_type": "execute_result"
    }
   ],
   "source": [
    "np.eye(5)"
   ]
  },
  {
   "cell_type": "code",
   "execution_count": 28,
   "id": "e596a1a4-595d-4605-b82c-34d422972f81",
   "metadata": {},
   "outputs": [
    {
     "data": {
      "text/plain": [
       "dtype('float64')"
      ]
     },
     "execution_count": 28,
     "metadata": {},
     "output_type": "execute_result"
    }
   ],
   "source": [
    "np.eye(5).dtype"
   ]
  },
  {
   "cell_type": "markdown",
   "id": "a9b254b7-c63c-4d12-8863-65d87dcffabd",
   "metadata": {},
   "source": [
    "#### 读取数组"
   ]
  },
  {
   "cell_type": "code",
   "execution_count": 30,
   "id": "bb2c99c6-50a3-49fa-a7b3-ff6c02a4b1e1",
   "metadata": {},
   "outputs": [],
   "source": [
    "a = np.arange(10)"
   ]
  },
  {
   "cell_type": "code",
   "execution_count": 31,
   "id": "949e5205-66a5-46bd-bf04-7c629bfee86f",
   "metadata": {},
   "outputs": [
    {
     "data": {
      "text/plain": [
       "array([0, 1, 2, 3, 4, 5, 6, 7, 8, 9])"
      ]
     },
     "execution_count": 31,
     "metadata": {},
     "output_type": "execute_result"
    }
   ],
   "source": [
    "a"
   ]
  },
  {
   "cell_type": "code",
   "execution_count": 32,
   "id": "f841ae5a-59c3-453d-82d8-bb919f744fd3",
   "metadata": {},
   "outputs": [
    {
     "data": {
      "text/plain": [
       "5"
      ]
     },
     "execution_count": 32,
     "metadata": {},
     "output_type": "execute_result"
    }
   ],
   "source": [
    "a[5]"
   ]
  },
  {
   "cell_type": "code",
   "execution_count": 33,
   "id": "07d96ee3-56f4-42ae-baa1-61b163a8c4e7",
   "metadata": {},
   "outputs": [
    {
     "data": {
      "text/plain": [
       "array([3, 4, 5])"
      ]
     },
     "execution_count": 33,
     "metadata": {},
     "output_type": "execute_result"
    }
   ],
   "source": [
    "a[3: 6]"
   ]
  },
  {
   "cell_type": "code",
   "execution_count": 35,
   "id": "55d3d0f1-77a3-4b7f-a753-bc62b43eed9f",
   "metadata": {},
   "outputs": [],
   "source": [
    "b = np.array([[1, 2, 3], [4, 5, 6]])"
   ]
  },
  {
   "cell_type": "code",
   "execution_count": 36,
   "id": "60a1213a-f553-43f4-a258-0105c057d9c6",
   "metadata": {},
   "outputs": [
    {
     "data": {
      "text/plain": [
       "array([[1, 2, 3],\n",
       "       [4, 5, 6]])"
      ]
     },
     "execution_count": 36,
     "metadata": {},
     "output_type": "execute_result"
    }
   ],
   "source": [
    "b"
   ]
  },
  {
   "cell_type": "code",
   "execution_count": 37,
   "id": "0c5a6791-584c-483b-b40d-426b8ce0015a",
   "metadata": {},
   "outputs": [
    {
     "data": {
      "text/plain": [
       "6"
      ]
     },
     "execution_count": 37,
     "metadata": {},
     "output_type": "execute_result"
    }
   ],
   "source": [
    "b[1][2]"
   ]
  },
  {
   "cell_type": "code",
   "execution_count": 38,
   "id": "2d16deec-470c-451b-9b13-9658ff5ea3c4",
   "metadata": {},
   "outputs": [
    {
     "data": {
      "text/plain": [
       "6"
      ]
     },
     "execution_count": 38,
     "metadata": {},
     "output_type": "execute_result"
    }
   ],
   "source": [
    "b[1, 2]"
   ]
  },
  {
   "cell_type": "code",
   "execution_count": 39,
   "id": "fc2b81b6-2958-45c3-b733-40e279f83ce2",
   "metadata": {},
   "outputs": [
    {
     "data": {
      "text/plain": [
       "array([[2],\n",
       "       [5]])"
      ]
     },
     "execution_count": 39,
     "metadata": {},
     "output_type": "execute_result"
    }
   ],
   "source": [
    "b[:2, 1:2]"
   ]
  },
  {
   "cell_type": "code",
   "execution_count": null,
   "id": "205b2ffe-9b0f-4e8a-b805-0ee203150de3",
   "metadata": {},
   "outputs": [],
   "source": []
  }
 ],
 "metadata": {
  "kernelspec": {
   "display_name": "Python 3 (ipykernel)",
   "language": "python",
   "name": "python3"
  },
  "language_info": {
   "codemirror_mode": {
    "name": "ipython",
    "version": 3
   },
   "file_extension": ".py",
   "mimetype": "text/x-python",
   "name": "python",
   "nbconvert_exporter": "python",
   "pygments_lexer": "ipython3",
   "version": "3.11.0"
  }
 },
 "nbformat": 4,
 "nbformat_minor": 5
}
